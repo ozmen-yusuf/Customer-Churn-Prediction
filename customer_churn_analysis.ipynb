{
 "cells": [
  {
   "cell_type": "markdown",
   "id": "c297a17a",
   "metadata": {},
   "source": [
    "# Analysis and Prediction of Telco Customer Churn\n",
    "\n",
    "### 1. Project Overview\n",
    "This project analyzes a telecom customer dataset to identify key drivers of churn. The goal is to build a classification model that can predict which customers are most likely to leave, enabling the business to take proactive retention measures."
   ]
  },
  {
   "cell_type": "code",
   "execution_count": null,
   "id": "87e6799e",
   "metadata": {},
   "outputs": [],
   "source": [
    "import pandas as pd\n",
    "import matplotlib.pyplot as plt\n",
    "import seaborn as sns\n",
    "from sklearn.model_selection import train_test_split\n",
    "from sklearn.tree import DecisionTreeClassifier\n",
    "from sklearn.linear_model import LogisticRegression\n",
    "from sklearn.metrics import accuracy_score\n",
    "\n",
    "# Load the full dataset from the .csv file\n",
    "file_path = 'WA_Fn-UseC_-Telco-Customer-Churn.csv'\n",
    "churn_df = pd.read_csv(file_path)\n",
    "\n",
    "# Display basic information and the first 5 rows\n",
    "print(f\"Dataset loaded successfully. Shape of the data: {churn_df.shape}\")\n",
    "print(\"\\nData Info:\")\n",
    "churn_df.info()\n",
    "\n",
    "print(\"\\nSample of the data:\")\n",
    "display(churn_df.head())"
   ]
  },
  {
   "cell_type": "markdown",
   "id": "68e0bf58",
   "metadata": {},
   "source": [
    "### 2. Data Cleaning and Preprocessing\n",
    "\n",
    "Real-world data often needs cleaning. We need to handle non-numeric values before we can use the data in a machine learning model.\n",
    "\n",
    "* `TotalCharges` column contains spaces for some rows, which should be numeric. We'll convert it.\n",
    "* Categorical columns like `gender` and `Partner` need to be converted into numbers.\n",
    "* We will convert the target variable `Churn` from 'Yes'/'No' to 1/0."
   ]
  },
  {
   "cell_type": "code",
   "execution_count": null,
   "id": "c2155e99",
   "metadata": {},
   "outputs": [],
   "source": [
    "# Handle non-numeric values in 'TotalCharges'\n",
    "churn_df['TotalCharges'] = pd.to_numeric(churn_df['TotalCharges'], errors='coerce')\n",
    "# Fill any resulting missing values (NaNs) with the median\n",
    "churn_df.dropna(inplace=True)\n",
    "\n",
    "# Convert 'Churn' column from Yes/No to 1/0\n",
    "churn_df['Churn'] = churn_df['Churn'].apply(lambda x: 1 if x == 'Yes' else 0)\n",
    "\n",
    "# Select features and target\n",
    "# For simplicity, we'll use only the numeric features for this model\n",
    "numeric_features = ['tenure', 'MonthlyCharges', 'TotalCharges']\n",
    "target = 'Churn'\n",
    "\n",
    "X = churn_df[numeric_features]\n",
    "y = churn_df[target]\n",
    "\n",
    "print(\"Data preprocessing complete. Features used for modeling:\")\n",
    "print(X.columns.tolist())\n",
    "\n"
   ]
  },
  {
   "cell_type": "code",
   "execution_count": null,
   "id": "8fa89557",
   "metadata": {},
   "outputs": [],
   "source": [
    "# --- EDA: Visualize Churn vs. Key Features ---\n",
    "# Let's visualize our earlier finding about MonthlyCharges to tell the story.\n",
    "\n",
    "# Calculate average monthly charges by churn status\n",
    "avg_charges_by_churn = churn_df.groupby('Churn')['MonthlyCharges'].mean()\n",
    "\n",
    "# Create the bar plot\n",
    "plt.figure(figsize=(8, 6))\n",
    "sns.barplot(x=avg_charges_by_churn.index, y=avg_charges_by_churn.values, palette='viridis')\n",
    "\n",
    "# Add titles and labels for clarity\n",
    "plt.title('Average Monthly Charges by Churn Status', fontsize=16)\n",
    "plt.xlabel('Churn Status', fontsize=12)\n",
    "plt.ylabel('Average Monthly Charges ($)', fontsize=12)\n",
    "# Make x-axis labels more readable\n",
    "plt.xticks([0, 1], ['Stayed', 'Churned']) \n",
    "plt.show()"
   ]
  },
  {
   "cell_type": "markdown",
   "id": "087ce8ba",
   "metadata": {},
   "source": [
    "### 3. Predictive Modeling\n",
    "\n",
    "Now that our data is clean, we can split it and train our classification models to compare their performance."
   ]
  },
  {
   "cell_type": "code",
   "execution_count": null,
   "id": "06bdb91b",
   "metadata": {},
   "outputs": [],
   "source": [
    "# Split data into training and testing sets\n",
    "X_train, X_test, y_train, y_test = train_test_split(X, y, test_size=0.3, random_state=42)\n",
    "\n",
    "# --- Model 1: Decision Tree ---\n",
    "dt_model = DecisionTreeClassifier(random_state=42)\n",
    "dt_model.fit(X_train, y_train)\n",
    "dt_predictions = dt_model.predict(X_test)\n",
    "dt_score = accuracy_score(y_test, dt_predictions)\n",
    "\n",
    "# --- Model 2: Logistic Regression ---\n",
    "lr_model = LogisticRegression(random_state=42)\n",
    "lr_model.fit(X_train, y_train)\n",
    "lr_predictions = lr_model.predict(X_test)\n",
    "lr_score = accuracy_score(y_test, lr_predictions)\n",
    "\n",
    "print(\"--- MODEL PERFORMANCE COMPARISON ---\")\n",
    "print(f\"Decision Tree Accuracy: {dt_score:.4f}\")\n",
    "print(f\"Logistic Regression Accuracy: {lr_score:.4f}\")"
   ]
  },
  {
   "cell_type": "markdown",
   "id": "4fb44c53",
   "metadata": {},
   "source": [
    "### 4. Model Interpretation: What Drives Churn?\n",
    "\n",
    "Let's inspect the Decision Tree model to understand which of our numeric features it found most important."
   ]
  },
  {
   "cell_type": "code",
   "execution_count": null,
   "id": "3c4004af",
   "metadata": {},
   "outputs": [],
   "source": [
    "# Get feature importances from the trained Decision Tree model\n",
    "feature_importances = dt_model.feature_importances_\n",
    "\n",
    "# Create a DataFrame for better visualization\n",
    "importance_df = pd.DataFrame({'feature': numeric_features, 'importance': feature_importances})\n",
    "importance_df = importance_df.sort_values(by='importance', ascending=False)\n",
    "\n",
    "print(\"--- FEATURE IMPORTANCE ANALYSIS (from Decision Tree) ---\")\n",
    "display(importance_df)"
   ]
  },
  {
   "cell_type": "markdown",
   "id": "e3aa1dab",
   "metadata": {},
   "source": [
    "### 5. Prediction on a New Customer\n",
    "\n",
    "Finally, let's use our trained Decision Tree model to predict whether a new, hypothetical customer with specific features is likely to churn. This demonstrates the practical application of our model."
   ]
  },
  {
   "cell_type": "code",
   "execution_count": null,
   "id": "ce1dbe07",
   "metadata": {},
   "outputs": [],
   "source": [
    "# Create a dictionary for a new customer's data\n",
    "# The keys must match the feature names used for training\n",
    "new_customer_data = {\n",
    "    'tenure': [12],           # 12 months with the company\n",
    "    'MonthlyCharges': [75.5], # 75.5 monthly charge\n",
    "    'TotalCharges': [900.5]   # 900.5 total charges\n",
    "}\n",
    "\n",
    "# Convert the dictionary to a DataFrame to ensure feature names are correct\n",
    "new_customer_df = pd.DataFrame(new_customer_data)\n",
    "\n",
    "# Use the trained Decision Tree model to make a prediction\n",
    "prediction = dt_model.predict(new_customer_df)\n",
    "\n",
    "print(\"\\n--- PREDICTION FOR A NEW CUSTOMER ---\")\n",
    "if prediction[0] == 1:\n",
    "    print(\"Prediction Result: This new customer is LIKELY TO CHURN.\")\n",
    "else:\n",
    "    print(\"Prediction Result: This new customer is LIKELY TO STAY.\")"
   ]
  }
 ],
 "metadata": {
  "kernelspec": {
   "display_name": "Python 3",
   "language": "python",
   "name": "python3"
  },
  "language_info": {
   "codemirror_mode": {
    "name": "ipython",
    "version": 3
   },
   "file_extension": ".py",
   "mimetype": "text/x-python",
   "name": "python",
   "nbconvert_exporter": "python",
   "pygments_lexer": "ipython3",
   "version": "3.13.5"
  }
 },
 "nbformat": 4,
 "nbformat_minor": 5
}
