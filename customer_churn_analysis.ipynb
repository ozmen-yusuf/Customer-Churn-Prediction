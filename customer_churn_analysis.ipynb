{
 "cells": [
  {
   "cell_type": "markdown",
   "id": "4c2da081",
   "metadata": {},
   "source": [
    "# Analysis and Prediction of Customer Churn\n",
    "\n",
    "### 1. Project Overview\n",
    "This project analyzes a telecom customer dataset to identify key drivers of churn. The primary goals are to understand the characteristics of customers who leave the service and to build a predictive model that can identify at-risk customers. This is a classic classification problem with significant business value.\n",
    "\n",
    "First, let's set up our environment and load the data."
   ]
  },
  {
   "cell_type": "code",
   "execution_count": null,
   "id": "0353d748",
   "metadata": {
    "vscode": {
     "languageId": "plaintext"
    }
   },
   "outputs": [],
   "source": [
    "import pandas as pd\n",
    "import matplotlib.pyplot as plt\n",
    "import seaborn as sns\n",
    "from sklearn.model_selection import train_test_split\n",
    "from sklearn.tree import DecisionTreeClassifier\n",
    "from sklearn.linear_model import LogisticRegression\n",
    "from sklearn.metrics import accuracy_score\n",
    "\n",
    "# Sample Customer Churn Dataset\n",
    "# churn: 1 = Customer left, 0 = Customer stayed\n",
    "# tenure: How many months the customer has been with the company\n",
    "# monthly_charges: The customer's monthly bill\n",
    "data = {\n",
    "    'tenure': [2, 48, 5, 12, 55, 24, 1, 70, 3, 65],\n",
    "    'monthly_charges': [50, 100, 60, 75, 110, 80, 45, 115, 55, 112],\n",
    "    'age': [25, 50, 22, 30, 60, 28, 21, 55, 24, 48],\n",
    "    'churn': [1, 0, 1, 1, 0, 0, 1, 0, 1, 0]\n",
    "}\n",
    "churn_df = pd.DataFrame(data)\n",
    "\n",
    "# Display the first 5 rows to understand the data\n",
    "churn_df.head()"
   ]
  },
  {
   "cell_type": "markdown",
   "id": "25f71772",
   "metadata": {},
   "source": [
    "### 2. Exploratory Data Analysis (EDA)\n",
    "My initial hypothesis was that customers with higher monthly charges would be more likely to churn. Let's test this by analyzing the average monthly charges for customers who churned versus those who did not."
   ]
  },
  {
   "cell_type": "code",
   "execution_count": null,
   "id": "a2161389",
   "metadata": {
    "vscode": {
     "languageId": "plaintext"
    }
   },
   "outputs": [],
   "source": [
    "# Calculate and print the average monthly charges by churn status\n",
    "avg_charges_by_churn = churn_df.groupby('churn')['monthly_charges'].mean()\n",
    "\n",
    "print(\"--- Average Monthly Charges by Churn Status ---\")\n",
    "print(avg_charges_by_churn)\n",
    "\n",
    "# Visualize the result\n",
    "plt.figure(figsize=(8, 5))\n",
    "sns.barplot(x=avg_charges_by_churn.index, y=avg_charges_by_churn.values)\n",
    "plt.title('Average Monthly Charges for Churn vs. Non-Churn Customers')\n",
    "plt.xlabel('Churn Status (1 = Churned, 0 = Stayed)')\n",
    "plt.ylabel('Average Monthly Charges')\n",
    "plt.show()"
   ]
  },
  {
   "cell_type": "markdown",
   "id": "d2b7dcf7",
   "metadata": {},
   "source": [
    "### 3. Predictive Modeling\n",
    "The EDA shows a surprising result: customers who churned, on average, had lower monthly charges. This refutes my initial hypothesis and suggests other factors are more important.\n",
    "\n",
    "Now, let's build machine learning models to predict churn based on all available features. We will prepare the data and then compare two different classification models: **Decision Tree** and **Logistic Regression**."
   ]
  },
  {
   "cell_type": "code",
   "execution_count": null,
   "id": "2656aa90",
   "metadata": {
    "vscode": {
     "languageId": "plaintext"
    }
   },
   "outputs": [],
   "source": [
    "# Define features (X) and target (y)\n",
    "X = churn_df.drop(columns=['churn'])\n",
    "y = churn_df['churn']\n",
    "\n",
    "# Split data into training and testing sets (70% training, 30% testing)\n",
    "X_train, X_test, y_train, y_test = train_test_split(X, y, test_size=0.3, random_state=42)"
   ]
  },
  {
   "cell_type": "code",
   "execution_count": null,
   "id": "a74f14cd",
   "metadata": {
    "vscode": {
     "languageId": "plaintext"
    }
   },
   "outputs": [],
   "source": [
    "# --- Model 1: Decision Tree ---\n",
    "dt_model = DecisionTreeClassifier(random_state=42)\n",
    "dt_model.fit(X_train, y_train)\n",
    "dt_predictions = dt_model.predict(X_test)\n",
    "dt_score = accuracy_score(y_test, dt_predictions)\n",
    "\n",
    "# --- Model 2: Logistic Regression ---\n",
    "lr_model = LogisticRegression(random_state=42)\n",
    "lr_model.fit(X_train, y_train)\n",
    "lr_predictions = lr_model.predict(X_test)\n",
    "lr_score = accuracy_score(y_test, lr_predictions)\n",
    "\n",
    "print(\"--- MODEL PERFORMANCE COMPARISON ---\")\n",
    "print(f\"Decision Tree Accuracy: {dt_score}\")\n",
    "print(f\"Logistic Regression Accuracy: {lr_score}\")"
   ]
  },
  {
   "cell_type": "markdown",
   "id": "da0a6d34",
   "metadata": {},
   "source": [
    "### 4. Model Interpretation: What Drives Churn?\n",
    "An accuracy score tells us *how* well the model performs, but not *why*. Let's inspect the Decision Tree model to understand which features it found most important when making a prediction."
   ]
  },
  {
   "cell_type": "code",
   "execution_count": null,
   "id": "d689b20b",
   "metadata": {
    "vscode": {
     "languageId": "plaintext"
    }
   },
   "outputs": [],
   "source": [
    "# Get feature importances from the trained Decision Tree model\n",
    "feature_importances = dt_model.feature_importances_\n",
    "feature_names = X.columns\n",
    "\n",
    "# Create a DataFrame for better visualization\n",
    "importance_df = pd.DataFrame({'feature': feature_names, 'importance': feature_importances})\n",
    "importance_df = importance_df.sort_values(by='importance', ascending=False)\n",
    "\n",
    "print(\"--- FEATURE IMPORTANCE ANALYSIS (from Decision Tree) ---\")\n",
    "print(importance_df)"
   ]
  },
  {
   "cell_type": "markdown",
   "id": "00eccedb",
   "metadata": {},
   "source": [
    "### 5. Prediction on a New Customer\n",
    "Finally, let's use our trained Decision Tree model to predict whether a new, hypothetical customer is likely to churn."
   ]
  },
  {
   "cell_type": "code",
   "execution_count": null,
   "id": "a2107fa7",
   "metadata": {
    "vscode": {
     "languageId": "plaintext"
    }
   },
   "outputs": [],
   "source": [
    "# New customer features: tenure=6, monthly_charges=90, age=40\n",
    "new_customer = [[6, 90, 40]]\n",
    "prediction = dt_model.predict(new_customer)\n",
    "\n",
    "print(\"\\n--- NEW CUSTOMER CHURN PREDICTION ---\")\n",
    "if prediction[0] == 1:\n",
    "    print(\"Prediction: This new customer is LIKELY TO CHURN.\")\n",
    "else:\n",
    "    print(\"Prediction: This new customer is LIKELY TO STAY.\")"
   ]
  }
 ],
 "metadata": {
  "language_info": {
   "name": "python"
  }
 },
 "nbformat": 4,
 "nbformat_minor": 5
}
